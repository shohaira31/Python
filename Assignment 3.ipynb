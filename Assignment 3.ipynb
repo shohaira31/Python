{
 "cells": [
  {
   "cell_type": "code",
   "execution_count": 18,
   "id": "0d44928b",
   "metadata": {},
   "outputs": [
    {
     "name": "stdout",
     "output_type": "stream",
     "text": [
      "Twinkle twinkle little star\n",
      " \thow i wonder what you are\n",
      " \t\t up above the world so high\n",
      " \t\t like a diamond in the sky \n",
      "twinkle twinkle little star\n",
      " \t how i wonder what you are\n"
     ]
    }
   ],
   "source": [
    "print(\"Twinkle twinkle little star\\n \\thow i wonder what you are\\n \\t\\t up above the world so high\\n \\t\\t like a diamond in the sky \\ntwinkle twinkle little star\\n \\t how i wonder what you are\")"
   ]
  },
  {
   "cell_type": "code",
   "execution_count": 19,
   "id": "ed2b37ec",
   "metadata": {},
   "outputs": [
    {
     "name": "stdout",
     "output_type": "stream",
     "text": [
      "PYTHON VER:: \n",
      "3.8.8 (default, Apr 13 2021, 15:08:03) [MSC v.1916 64 bit (AMD64)]\n",
      "\n",
      "\n",
      "VERSION INFORMATION:: \n",
      "sys.version_info(major=3, minor=8, micro=8, releaselevel='final', serial=0)\n"
     ]
    }
   ],
   "source": [
    "import sys\n",
    "print(\"PYTHON VER:: \")\n",
    "print(sys.version)\n",
    "print(\"\\n\\nVERSION INFORMATION:: \")\n",
    "print(sys.version_info)"
   ]
  },
  {
   "cell_type": "code",
   "execution_count": 20,
   "id": "9b24eee8",
   "metadata": {},
   "outputs": [
    {
     "name": "stdout",
     "output_type": "stream",
     "text": [
      "TODAY'S DATE & TIME \n",
      "2021-10-24   17:08:08\n"
     ]
    }
   ],
   "source": [
    "from datetime import datetime\n",
    "d1=datetime.now()\n",
    "print(\"TODAY'S DATE & TIME \")\n",
    "print(d1.strftime(\"%Y-%m-%d   %H:%M:%S\"))"
   ]
  },
  {
   "cell_type": "code",
   "execution_count": 23,
   "id": "22c7b19c",
   "metadata": {},
   "outputs": [
    {
     "name": "stdout",
     "output_type": "stream",
     "text": [
      "ENTER RADIUS :: 45\n",
      "AREA of given RADIUS 45 is::  6358.5\n"
     ]
    }
   ],
   "source": [
    "rad=input(\"ENTER RADIUS :: \")\n",
    "area=3.14* (float(rad))**2\n",
    "print(\"AREA of given RADIUS\",rad,\"is:: \",area)"
   ]
  },
  {
   "cell_type": "code",
   "execution_count": 22,
   "id": "6717a2e4",
   "metadata": {},
   "outputs": [
    {
     "name": "stdout",
     "output_type": "stream",
     "text": [
      "ENTER FIRST NAME: shohaira \n",
      "ENTER LAST NAME: mughal\n",
      "\n",
      "  ariahohs lahgum\n"
     ]
    }
   ],
   "source": [
    "a1=input(\"ENTER FIRST NAME: \")\n",
    "a2=input(\"ENTER LAST NAME: \")\n",
    "s1=''.join(reversed(a1))\n",
    "s2=''.join(reversed(a2))\n",
    "\n",
    "\n",
    "print(\"\\n\",s1 + \" \" +s2)"
   ]
  },
  {
   "cell_type": "code",
   "execution_count": 24,
   "id": "f32005e4",
   "metadata": {},
   "outputs": [
    {
     "name": "stdout",
     "output_type": "stream",
     "text": [
      "ENTER 1 NO: 45\n",
      "ENTER 2 NO: 32\n",
      "46\n"
     ]
    }
   ],
   "source": [
    "a1=int(input(\"ENTER 1 NO: \"))\n",
    "a2=int(input(\"ENTER 2 NO: \"))\n",
    "sum=int(var1)+int(var2)\n",
    "print(sum)"
   ]
  },
  {
   "cell_type": "code",
   "execution_count": 25,
   "id": "db84511d",
   "metadata": {},
   "outputs": [
    {
     "name": "stdout",
     "output_type": "stream",
     "text": [
      "ENTER YOUR NAME: shohaira mughal\n",
      "ENG: 34\n",
      "MATH: 67\n",
      "URDU: 45\n",
      "PHYSICS: 98\n",
      "CHEMISTRY: 34\n",
      "Percentage:55.60000000000001%\n",
      "Grade: F\n"
     ]
    }
   ],
   "source": [
    "name=input(\"ENTER YOUR NAME: \")\n",
    "eng=float(input(\"ENG: \"))\n",
    "maths=float(input(\"MATH: \"))\n",
    "urdu=float(input(\"URDU: \"))\n",
    "phy=float(input(\"PHYSICS: \"))\n",
    "chem=float(input(\"CHEMISTRY: \"))\n",
    "\n",
    "\n",
    "obtmarks=eng+maths+urdu+phy+chem\n",
    "tmarks=500\n",
    "per=(obtmarks/tmarks)*100\n",
    "print(\"Percentage:\" + str(per) + \"%\" )\n",
    "grade=\" \"\n",
    "\n",
    "if per==100 and per>=90:\n",
    "    grade=\"A+\"\n",
    "elif per<90 and per>=80:\n",
    "    grade=\"A\"\n",
    "elif  per<80 and per>=70:\n",
    "    grade=\"B\"\n",
    "elif per<70 and per>=60:\n",
    "    grade=\"C\"\n",
    "elif per<60 \n",
    "    grade=\"F\"\n",
    "    else: \n",
    "        print(\"invalid input\")\n",
    "\n",
    "print(\"Grade: \" + grade)\n"
   ]
  },
  {
   "cell_type": "code",
   "execution_count": 26,
   "id": "d41a8d13",
   "metadata": {},
   "outputs": [
    {
     "name": "stdout",
     "output_type": "stream",
     "text": [
      "ENTER A NATURAL NUM: 45\n",
      "\n",
      " NUM IS ODD \n"
     ]
    }
   ],
   "source": [
    "a=int(input(\"ENTER A NATURAL NUM: \"))\n",
    "if a%2==0:\n",
    "    print(\"\\n NUM IS EVEN \")\n",
    "else:\n",
    "    print(\"\\n NUM IS ODD \")"
   ]
  },
  {
   "cell_type": "code",
   "execution_count": 28,
   "id": "d88e0804",
   "metadata": {},
   "outputs": [
    {
     "name": "stdout",
     "output_type": "stream",
     "text": [
      "LENGTH OF LIST IS :  7\n"
     ]
    }
   ],
   "source": [
    "L=['1',\"HEY\",2,5,\"SAM\",\"ASH\" ,\"MUGHAL\"]\n",
    "A=len(L)\n",
    "print(\"LENGTH OF LIST IS : \",A)"
   ]
  },
  {
   "cell_type": "code",
   "execution_count": null,
   "id": "8ccf562b",
   "metadata": {},
   "outputs": [],
   "source": [
    "L=['1',\"HEY\",2,5,\"SAM\",\"ASH\",545,98,65 ,\"MUGHAL\"]\n",
    "def sum(l):\n",
    "    return sum([int[i] for i in l if type(i)== int or i.isdigit() ])\n",
    " print(\"SUM IS: \",sum(L))"
   ]
  },
  {
   "cell_type": "code",
   "execution_count": 30,
   "id": "73b1e8f2",
   "metadata": {},
   "outputs": [
    {
     "name": "stdout",
     "output_type": "stream",
     "text": [
      "HOW MANY ELEMENT DO YOU WANT TO INSERT ????2\n",
      "ENTER ELEMENTS : 34\n",
      "ENTER ELEMENTS : 65\n",
      "\n",
      "\n",
      "MAX ELEMENT IN LIST IS : 65\n"
     ]
    }
   ],
   "source": [
    "list=[]\n",
    "x=int(input(\"HOW MANY ELEMENT DO YOU WANT TO INSERT ????\"))\n",
    "for n in range(x):\n",
    "    s=int(input(\"ENTER ELEMENTS : \"))\n",
    "    list.append(s)\n",
    "print(\"\\n\\nMAX ELEMENT IN LIST IS :\",max(list))\n",
    "\n"
   ]
  },
  {
   "cell_type": "raw",
   "id": "8e0da909",
   "metadata": {},
   "source": [
    "list=[11,2,3,5,8,14,21,55,89,50,0]\n",
    "n=len(list)\n",
    "for i in range(n):\n",
    "    if list[i]<5:\n",
    "        print(list[i])\n",
    "    "
   ]
  },
  {
   "cell_type": "code",
   "execution_count": null,
   "id": "16b6285b",
   "metadata": {},
   "outputs": [],
   "source": []
  },
  {
   "cell_type": "code",
   "execution_count": null,
   "id": "eac40fb2",
   "metadata": {},
   "outputs": [],
   "source": []
  }
 ],
 "metadata": {
  "kernelspec": {
   "display_name": "Python 3",
   "language": "python",
   "name": "python3"
  },
  "language_info": {
   "codemirror_mode": {
    "name": "ipython",
    "version": 3
   },
   "file_extension": ".py",
   "mimetype": "text/x-python",
   "name": "python",
   "nbconvert_exporter": "python",
   "pygments_lexer": "ipython3",
   "version": "3.8.8"
  }
 },
 "nbformat": 4,
 "nbformat_minor": 5
}
