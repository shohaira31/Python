{
 "cells": [
  {
   "cell_type": "code",
   "execution_count": 4,
   "id": "30a6872b",
   "metadata": {},
   "outputs": [
    {
     "name": "stdout",
     "output_type": "stream",
     "text": [
      "Enter a num: 23\n",
      "Enter another num: 23\n",
      "Choose the option:\n",
      "\n",
      " 1.Add\n",
      "\n",
      "2.Subtract\n",
      "\n",
      "3.Divide\n",
      "\n",
      "4.Multiply\n",
      "\n",
      "5.Power\n",
      "\n",
      "Operation : 1\n",
      "46\n",
      "None\n"
     ]
    }
   ],
   "source": [
    "def Sum(a,b):\n",
    "    return(a+b)\n",
    "\n",
    "def Sub(a,b):\n",
    "    return(a-b)\n",
    "\n",
    "def Divide(a,b):\n",
    "    return(a/b)\n",
    "\n",
    "def Multiply(a,b):\n",
    "    return(a*b)\n",
    "\n",
    "def Power(a,b):\n",
    "    return(a**b)\n",
    "\n",
    "def Calcu():\n",
    "    num1=int(input(\"Enter a num: \"))\n",
    "    num2=int(input(\"Enter another num: \"))\n",
    "    print(\"Choose the option:\\n\\n 1.Add\\n\\n2.Subtract\\n\\n3.Divide\\n\\n4.Multiply\\n\\n5.Power\\n\")\n",
    "    choices=input(\"Operation : \")\n",
    "    if choices==\"1\":\n",
    "        print(Sum(num1,num2))\n",
    "    elif choices==\"2\":\n",
    "        print(Sub(num1,num2))\n",
    "    elif choices==\"3\":\n",
    "        print(Divide(num1,num2))\n",
    "    elif choices==\"4\":\n",
    "        print(Multiply(num1,num2))\n",
    "    elif choicse==\"5\":\n",
    "        print(Power(num1,num2))\n",
    "print(Calcu())"
   ]
  },
  {
   "cell_type": "code",
   "execution_count": 5,
   "id": "3a341614",
   "metadata": {},
   "outputs": [
    {
     "name": "stdout",
     "output_type": "stream",
     "text": [
      "Value found at 2\n",
      "Value found at 4\n"
     ]
    }
   ],
   "source": [
    "lists=['shohaira','27b',\"31\",'gui1',\"31\"]\n",
    "for i in range(len(lists)):\n",
    "    if lists[i].isdigit()==True:\n",
    "        print(\"Value found at \" + str(i))"
   ]
  },
  {
   "cell_type": "code",
   "execution_count": 6,
   "id": "a8d3158b",
   "metadata": {},
   "outputs": [
    {
     "name": "stdout",
     "output_type": "stream",
     "text": [
      "{'name': 'Shohaira', 'name_1': 'Mughal', 'dept': 'Software'}\n"
     ]
    }
   ],
   "source": [
    "dict={'name':'Shohaira','name_1':'Mughal'\n",
    "}\n",
    "dict.update(dept='Software')\n",
    "print(dict)"
   ]
  },
  {
   "cell_type": "code",
   "execution_count": 9,
   "id": "b5e3446f",
   "metadata": {},
   "outputs": [
    {
     "name": "stdout",
     "output_type": "stream",
     "text": [
      "328\n"
     ]
    }
   ],
   "source": [
    "dict={'val1':'muet' , 'val2' : '273' , 'val3' : '24' , 'val4':'31'}\n",
    "Summ=0\n",
    "for key,value in dict.items():\n",
    "    if value.isdigit()==True:\n",
    "        Summ=Summ+int(value)\n",
    "print(Summ)"
   ]
  },
  {
   "cell_type": "code",
   "execution_count": 12,
   "id": "6086cadf",
   "metadata": {},
   "outputs": [
    {
     "name": "stdout",
     "output_type": "stream",
     "text": [
      "Yes, list contains duplicates\n"
     ]
    }
   ],
   "source": [
    "def check(list1):\n",
    "    for ele in list1:\n",
    "        if list1.count(ele) > 1:\n",
    "            return True\n",
    "    return False\n",
    "list1 = ['shohaira', 'Ok', 'hain', 'ap', 'shohaira', 'ko', 'jante', 'hain']\n",
    "res = check(list1)\n",
    "if res:\n",
    "    print('Yes, list contains duplicates')\n",
    "else:\n",
    "    print('No duplicates found in list')"
   ]
  },
  {
   "cell_type": "code",
   "execution_count": 17,
   "id": "b17d5b28",
   "metadata": {},
   "outputs": [
    {
     "name": "stdout",
     "output_type": "stream",
     "text": [
      "enter ther key you want to add: val3\n",
      "key not present\n"
     ]
    }
   ],
   "source": [
    "dict={'key1':'val1' , 'key2':'val2'}\n",
    "give_key=input(\"enter ther key you want to add: \")\n",
    "def check_key():\n",
    "    for key,value in dict.items():\n",
    "        if key==give_key:\n",
    "            return(\"key already present\")\n",
    "        else:\n",
    "            return(\"key not present\")\n",
    "print(check_key())\n"
   ]
  },
  {
   "cell_type": "code",
   "execution_count": null,
   "id": "7d98d42f",
   "metadata": {},
   "outputs": [],
   "source": []
  },
  {
   "cell_type": "code",
   "execution_count": null,
   "id": "247e1fba",
   "metadata": {},
   "outputs": [],
   "source": []
  }
 ],
 "metadata": {
  "kernelspec": {
   "display_name": "Python 3",
   "language": "python",
   "name": "python3"
  },
  "language_info": {
   "codemirror_mode": {
    "name": "ipython",
    "version": 3
   },
   "file_extension": ".py",
   "mimetype": "text/x-python",
   "name": "python",
   "nbconvert_exporter": "python",
   "pygments_lexer": "ipython3",
   "version": "3.8.8"
  }
 },
 "nbformat": 4,
 "nbformat_minor": 5
}
